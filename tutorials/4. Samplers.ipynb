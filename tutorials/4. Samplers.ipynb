{
 "cells": [
  {
   "cell_type": "markdown",
   "metadata": {},
   "source": [
    "# Samplers\n",
    "\n",
    "Samplers let you train models on images in special ways. That sounds a bit abstract, but it can be clearly stated that you will use samplers whenever you are training on anything other than the entire image. The most common uses of samplers are for training on slices, patches, or blocks of full images.\n",
    "\n",
    "Training on parts of images is actually quite common in medical imaging AI tasks, primarily because 3D medical images are quite large in size and usually only contain a lot of irrelevant space in the image. The process of correctly and efficiently sampling these parts of images is often a struggle to do manually, which is why nitrain aims to make this process simple!\n",
    "\n",
    "Samplers are used with loaders (presented in the next tutorial), but they are applied to datasets. And since they can actually be used on their own, it is best to present them here.\n",
    "\n",
    "Let's start by creating a nitrain dataset:"
   ]
  },
  {
   "cell_type": "code",
   "execution_count": null,
   "metadata": {},
   "outputs": [],
   "source": [
    "import ants\n",
    "import numpy as np\n",
    "from nitrain import datasets, loaders, samplers, transforms as tx\n",
    "\n",
    "dataset = datasets.FolderDataset(base_dir='/Users/ni5875cu/Desktop/ds004711',\n",
    "                                 x={'pattern': 'sub-*/anat/*_T1w.nii.gz', 'exclude': '**run-02*'},\n",
    "                                 y={'file': 'participants.tsv', 'column': 'age'},\n",
    "                                 x_transforms=[tx.Resample((4,4,4), use_spacing=True)])\n",
    "dataset.x = dataset.x[:7]\n",
    "dataset.y = dataset.y[:7]\n",
    "\n",
    "x_raw, y_raw = dataset[:3]\n"
   ]
  },
  {
   "cell_type": "markdown",
   "metadata": {},
   "source": [
    "## Slice sampler\n",
    "\n",
    "The `SliceSampler` class lets you train on 2D slices of 3D images. You can specify the `axis` that you want to take slices along and the `batch_size` for how many slices you want to batch at once. Note that you pass in a list of image to the sampler and get back a generator. This is what it looks like:"
   ]
  },
  {
   "cell_type": "code",
   "execution_count": null,
   "metadata": {},
   "outputs": [],
   "source": [
    "slice_sampler = samplers.SliceSampler(batch_size=24, axis=0, shuffle=True)\n",
    "slice_batch = slice_sampler(x_raw, y_raw)\n",
    "\n",
    "for a, b in slice_batch:\n",
    "    print(len(a))"
   ]
  },
  {
   "cell_type": "markdown",
   "metadata": {},
   "source": [
    "Here, the 3 3D images have now been split into lists of sliced (2D) images with length 24. This gives us a total of 192 slices served in batches of 24. Since we passed in 3 images the sampler and specified `shuffle=True`, those batches of 24 will include a mix of slices from all 3 images at once."
   ]
  },
  {
   "cell_type": "markdown",
   "metadata": {},
   "source": [
    "## Block sampler\n",
    "\n",
    "The `BlockSampler` class lets you train on 3D blocks of 3D images. Here, you can specify the block size and the stride (i.e., how many steps to take in each direction before taking the next block). You also specify the batch size as before."
   ]
  },
  {
   "cell_type": "code",
   "execution_count": null,
   "metadata": {},
   "outputs": [],
   "source": [
    "block_sampler = samplers.BlockSampler(block_size=(32,32,24), stride=(6,6,4), batch_size=24)\n",
    "block_batch = block_sampler(x_raw, y_raw)\n",
    "a, b = next(iter(block_batch))"
   ]
  },
  {
   "cell_type": "markdown",
   "metadata": {},
   "source": [
    "From the block sampler, we get blocks of size (32, 32, 24) that are combined into batches of 24. Again, blocks will be shuffled across the 3 images that we passed into the block sampler."
   ]
  },
  {
   "cell_type": "markdown",
   "metadata": {},
   "source": [
    "## Patch sampler\n",
    "\n",
    "Finally, you may want to train on 2D patches of 2D images. The `PatchSampler` class is perfect for that. Let's first create a dataset with 2D images to see how this works."
   ]
  },
  {
   "cell_type": "code",
   "execution_count": null,
   "metadata": {},
   "outputs": [],
   "source": [
    "x = [ants.image_read(ants.get_data('r16')) for _ in range(10)]\n",
    "y = list(range(10))\n",
    "dataset = datasets.MemoryDataset(x, y)\n",
    "x_raw, y_raw = dataset[:3]"
   ]
  },
  {
   "cell_type": "markdown",
   "metadata": {},
   "source": [
    "Now that we have a dataset with 3 2D images taken from it, we can create the patch sampler. The patch sampler works nearly identically to the block sampler, except for having on two dimensions."
   ]
  },
  {
   "cell_type": "code",
   "execution_count": null,
   "metadata": {},
   "outputs": [],
   "source": [
    "patch_sampler = samplers.PatchSampler(patch_size=(64,64), stride=(8,8), batch_size=24)\n",
    "patch_batch = patch_sampler(x_raw, y_raw)\n",
    "\n",
    "patch_iter = next(iter(patch_batch))"
   ]
  },
  {
   "cell_type": "markdown",
   "metadata": {},
   "source": [
    "A cool feature of using `ants` as the medical imaging library is that we can actually put the patches back into the original image using the `decrop_image` function:"
   ]
  },
  {
   "cell_type": "code",
   "execution_count": null,
   "metadata": {},
   "outputs": [],
   "source": [
    "x_raw[0].plot(overlay=ants.decrop_image(a[10], x_raw[0]*0), axis=2)"
   ]
  },
  {
   "cell_type": "markdown",
   "metadata": {},
   "source": [
    "We will see how useful this is when we use the `explainers` to understand which parts of the image are most important for a trained model."
   ]
  },
  {
   "cell_type": "markdown",
   "metadata": {},
   "source": [
    "## Summary\n",
    "\n",
    "Samplers are quite simple but powerful tools for training on parts of medical images. In the next tutorial, you will see how well they combine with `loaders` to create really efficient and well-organized batches of images that are ready for model training."
   ]
  },
  {
   "cell_type": "markdown",
   "metadata": {},
   "source": []
  }
 ],
 "metadata": {
  "language_info": {
   "name": "python"
  }
 },
 "nbformat": 4,
 "nbformat_minor": 2
}
